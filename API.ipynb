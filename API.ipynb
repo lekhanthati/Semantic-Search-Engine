{
 "cells": [
  {
   "cell_type": "code",
   "execution_count": 2,
   "id": "ec34cb2f",
   "metadata": {},
   "outputs": [],
   "source": [
    "import sqlite3\n",
    "import pandas as pd\n",
    "import zipfile\n",
    "import io\n",
    "import numpy as np"
   ]
  },
  {
   "cell_type": "code",
   "execution_count": 3,
   "id": "4b9d3af4",
   "metadata": {},
   "outputs": [],
   "source": [
    "import re\n",
    "import nltk\n",
    "from nltk.tokenize import word_tokenize\n",
    "from nltk.corpus import stopwords\n",
    "from nltk.stem.porter import PorterStemmer\n",
    "from nltk.stem import WordNetLemmatizer\n",
    "from sklearn.feature_extraction.text import CountVectorizer,TfidfVectorizer\n",
    "\n",
    "import gensim\n",
    "from gensim.models import Word2Vec"
   ]
  },
  {
   "cell_type": "code",
   "execution_count": 4,
   "id": "5e553b92",
   "metadata": {},
   "outputs": [],
   "source": [
    "#! pip install -U sentence-transformers"
   ]
  },
  {
   "cell_type": "code",
   "execution_count": 5,
   "id": "c5394d9e",
   "metadata": {},
   "outputs": [
    {
     "name": "stdout",
     "output_type": "stream",
     "text": [
      "[('zipfiles',)]\n"
     ]
    }
   ],
   "source": [
    "conn = sqlite3.connect('eng_subtitles_database.db')\n",
    "cursor = conn.cursor()\n",
    "cursor.execute(\"SELECT name FROM sqlite_master WHERE type='table'\")\n",
    "print(cursor.fetchall())"
   ]
  },
  {
   "cell_type": "code",
   "execution_count": 6,
   "id": "c19acfdd",
   "metadata": {},
   "outputs": [
    {
     "data": {
      "text/html": [
       "<div>\n",
       "<style scoped>\n",
       "    .dataframe tbody tr th:only-of-type {\n",
       "        vertical-align: middle;\n",
       "    }\n",
       "\n",
       "    .dataframe tbody tr th {\n",
       "        vertical-align: top;\n",
       "    }\n",
       "\n",
       "    .dataframe thead th {\n",
       "        text-align: right;\n",
       "    }\n",
       "</style>\n",
       "<table border=\"1\" class=\"dataframe\">\n",
       "  <thead>\n",
       "    <tr style=\"text-align: right;\">\n",
       "      <th></th>\n",
       "      <th>num</th>\n",
       "      <th>name</th>\n",
       "      <th>content</th>\n",
       "    </tr>\n",
       "  </thead>\n",
       "  <tbody>\n",
       "    <tr>\n",
       "      <th>0</th>\n",
       "      <td>9180533</td>\n",
       "      <td>the.message.(1976).eng.1cd</td>\n",
       "      <td>b'PK\\x03\\x04\\x14\\x00\\x00\\x00\\x08\\x00\\x1c\\xa9\\x...</td>\n",
       "    </tr>\n",
       "    <tr>\n",
       "      <th>1</th>\n",
       "      <td>9180583</td>\n",
       "      <td>here.comes.the.grump.s01.e09.joltin.jack.in.bo...</td>\n",
       "      <td>b'PK\\x03\\x04\\x14\\x00\\x00\\x00\\x08\\x00\\x17\\xb9\\x...</td>\n",
       "    </tr>\n",
       "    <tr>\n",
       "      <th>2</th>\n",
       "      <td>9180592</td>\n",
       "      <td>yumis.cells.s02.e13.episode.2.13.(2022).eng.1cd</td>\n",
       "      <td>b'PK\\x03\\x04\\x14\\x00\\x00\\x00\\x08\\x00L\\xb9\\x99V...</td>\n",
       "    </tr>\n",
       "    <tr>\n",
       "      <th>3</th>\n",
       "      <td>9180594</td>\n",
       "      <td>yumis.cells.s02.e14.episode.2.14.(2022).eng.1cd</td>\n",
       "      <td>b'PK\\x03\\x04\\x14\\x00\\x00\\x00\\x08\\x00U\\xa9\\x99V...</td>\n",
       "    </tr>\n",
       "    <tr>\n",
       "      <th>4</th>\n",
       "      <td>9180600</td>\n",
       "      <td>broker.(2022).eng.1cd</td>\n",
       "      <td>b'PK\\x03\\x04\\x14\\x00\\x00\\x00\\x08\\x001\\xa9\\x99V...</td>\n",
       "    </tr>\n",
       "  </tbody>\n",
       "</table>\n",
       "</div>"
      ],
      "text/plain": [
       "       num                                               name  \\\n",
       "0  9180533                         the.message.(1976).eng.1cd   \n",
       "1  9180583  here.comes.the.grump.s01.e09.joltin.jack.in.bo...   \n",
       "2  9180592    yumis.cells.s02.e13.episode.2.13.(2022).eng.1cd   \n",
       "3  9180594    yumis.cells.s02.e14.episode.2.14.(2022).eng.1cd   \n",
       "4  9180600                              broker.(2022).eng.1cd   \n",
       "\n",
       "                                             content  \n",
       "0  b'PK\\x03\\x04\\x14\\x00\\x00\\x00\\x08\\x00\\x1c\\xa9\\x...  \n",
       "1  b'PK\\x03\\x04\\x14\\x00\\x00\\x00\\x08\\x00\\x17\\xb9\\x...  \n",
       "2  b'PK\\x03\\x04\\x14\\x00\\x00\\x00\\x08\\x00L\\xb9\\x99V...  \n",
       "3  b'PK\\x03\\x04\\x14\\x00\\x00\\x00\\x08\\x00U\\xa9\\x99V...  \n",
       "4  b'PK\\x03\\x04\\x14\\x00\\x00\\x00\\x08\\x001\\xa9\\x99V...  "
      ]
     },
     "execution_count": 6,
     "metadata": {},
     "output_type": "execute_result"
    }
   ],
   "source": [
    "df = pd.read_sql_query(\"\"\"SELECT * FROM zipfiles\"\"\", conn)\n",
    "df.head()"
   ]
  },
  {
   "cell_type": "code",
   "execution_count": 7,
   "id": "8acfda12",
   "metadata": {},
   "outputs": [],
   "source": [
    "df = df[:10]"
   ]
  },
  {
   "cell_type": "markdown",
   "id": "e1d6387b",
   "metadata": {},
   "source": [
    "# Semantic search engine"
   ]
  },
  {
   "cell_type": "code",
   "execution_count": 8,
   "id": "05d2d902",
   "metadata": {},
   "outputs": [],
   "source": [
    "def func1(a):\n",
    "    with io.BytesIO(a) as f:\n",
    "        with zipfile.ZipFile(f, 'r') as zip_file:\n",
    "            subtitle_content = zip_file.read(zip_file.namelist()[0])\n",
    "    srt_content = subtitle_content.decode('latin-1').split('\\r\\n')\n",
    "    temp = ''\n",
    "    for i in srt_content:\n",
    "        if '-->' not in i and i != '' and not i.isdigit():\n",
    "            temp+=i\n",
    "    temp = temp.replace('</i>', '').replace('<i>', '').replace(\"\\\\\" ,  \"\")\n",
    "    return temp"
   ]
  },
  {
   "cell_type": "code",
   "execution_count": 9,
   "id": "5f3f250d",
   "metadata": {},
   "outputs": [],
   "source": [
    "df.content = df.content.apply(func1)"
   ]
  },
  {
   "cell_type": "markdown",
   "id": "b7f4ca69",
   "metadata": {},
   "source": [
    "# data pre-processing along with chunking"
   ]
  },
  {
   "cell_type": "code",
   "execution_count": 10,
   "id": "42d7d22a",
   "metadata": {},
   "outputs": [],
   "source": [
    "def pre_processing(raw_text):\n",
    "    #removing special characters\n",
    "    temp = re.sub('[^a-zA-Z]',' ',raw_text)\n",
    "\n",
    "    temp = temp.lower()\n",
    "    \n",
    "    #tokenizing \n",
    "    tokens = temp.split()\n",
    "    \n",
    "    #removing stop words\n",
    "    tokens1 = [i for i in tokens if i not in stopwords.words('english')]\n",
    "    \n",
    "    #steming \n",
    "    stem = PorterStemmer()\n",
    "    tokens2 = [stem.stem(i) for i in tokens1]\n",
    "               \n",
    "    \n",
    "    t_range = [i for i in range(0,int(len(tokens2)),768) ]\n",
    "\n",
    "    if len(t_range) == 1:\n",
    "        return ' '.join(tokens2)\n",
    "    else :\n",
    "        ch_array = []\n",
    "\n",
    "        for i in range(int(len(t_range)-1)):\n",
    "            ch_array.append(tokens2[t_range[i]:t_range[i+1]])\n",
    "\n",
    "        ch_array1 = [] \n",
    "\n",
    "        for i in ch_array:\n",
    "            ch_array1.append(' '.join(i))\n",
    "\n",
    "        return ch_array1"
   ]
  },
  {
   "cell_type": "code",
   "execution_count": 11,
   "id": "7b293ea4",
   "metadata": {},
   "outputs": [],
   "source": [
    "df.content = df.content.apply(pre_processing)"
   ]
  },
  {
   "cell_type": "code",
   "execution_count": 12,
   "id": "4a50b2a3",
   "metadata": {},
   "outputs": [],
   "source": [
    "df = df.explode('content').reset_index(drop = True)"
   ]
  },
  {
   "cell_type": "code",
   "execution_count": 13,
   "id": "6a24b513",
   "metadata": {},
   "outputs": [
    {
     "data": {
      "text/html": [
       "<div>\n",
       "<style scoped>\n",
       "    .dataframe tbody tr th:only-of-type {\n",
       "        vertical-align: middle;\n",
       "    }\n",
       "\n",
       "    .dataframe tbody tr th {\n",
       "        vertical-align: top;\n",
       "    }\n",
       "\n",
       "    .dataframe thead th {\n",
       "        text-align: right;\n",
       "    }\n",
       "</style>\n",
       "<table border=\"1\" class=\"dataframe\">\n",
       "  <thead>\n",
       "    <tr style=\"text-align: right;\">\n",
       "      <th></th>\n",
       "      <th>num</th>\n",
       "      <th>name</th>\n",
       "      <th>content</th>\n",
       "    </tr>\n",
       "  </thead>\n",
       "  <tbody>\n",
       "    <tr>\n",
       "      <th>0</th>\n",
       "      <td>9180533</td>\n",
       "      <td>the.message.(1976).eng.1cd</td>\n",
       "      <td>watch video onlin open subtitlesfre browser ex...</td>\n",
       "    </tr>\n",
       "    <tr>\n",
       "      <th>1</th>\n",
       "      <td>9180533</td>\n",
       "      <td>the.message.(1976).eng.1cd</td>\n",
       "      <td>told mother afterward minut tender littl grip ...</td>\n",
       "    </tr>\n",
       "    <tr>\n",
       "      <th>2</th>\n",
       "      <td>9180533</td>\n",
       "      <td>the.message.(1976).eng.1cd</td>\n",
       "      <td>year worshipedwood stone imag manufactur live ...</td>\n",
       "    </tr>\n",
       "    <tr>\n",
       "      <th>3</th>\n",
       "      <td>9180533</td>\n",
       "      <td>the.message.(1976).eng.1cd</td>\n",
       "      <td>choosebetween mani welcom god guid camel stop ...</td>\n",
       "    </tr>\n",
       "    <tr>\n",
       "      <th>4</th>\n",
       "      <td>9180533</td>\n",
       "      <td>the.message.(1976).eng.1cd</td>\n",
       "      <td>soon enough big armi three thousand men hundr ...</td>\n",
       "    </tr>\n",
       "  </tbody>\n",
       "</table>\n",
       "</div>"
      ],
      "text/plain": [
       "       num                        name  \\\n",
       "0  9180533  the.message.(1976).eng.1cd   \n",
       "1  9180533  the.message.(1976).eng.1cd   \n",
       "2  9180533  the.message.(1976).eng.1cd   \n",
       "3  9180533  the.message.(1976).eng.1cd   \n",
       "4  9180533  the.message.(1976).eng.1cd   \n",
       "\n",
       "                                             content  \n",
       "0  watch video onlin open subtitlesfre browser ex...  \n",
       "1  told mother afterward minut tender littl grip ...  \n",
       "2  year worshipedwood stone imag manufactur live ...  \n",
       "3  choosebetween mani welcom god guid camel stop ...  \n",
       "4  soon enough big armi three thousand men hundr ...  "
      ]
     },
     "execution_count": 13,
     "metadata": {},
     "output_type": "execute_result"
    }
   ],
   "source": [
    "df.head()"
   ]
  },
  {
   "cell_type": "code",
   "execution_count": 14,
   "id": "a967b6a5",
   "metadata": {},
   "outputs": [],
   "source": [
    "from sentence_transformers import SentenceTransformer, util"
   ]
  },
  {
   "cell_type": "code",
   "execution_count": 15,
   "id": "be1cf341",
   "metadata": {},
   "outputs": [],
   "source": [
    "model = SentenceTransformer('multi-qa-mpnet-base-dot-v1')"
   ]
  },
  {
   "cell_type": "code",
   "execution_count": 16,
   "id": "1c88c9a1",
   "metadata": {},
   "outputs": [],
   "source": [
    "df['embeddings'] = df.content.apply(lambda a : model.encode(a))"
   ]
  },
  {
   "cell_type": "code",
   "execution_count": 17,
   "id": "27a9cb35",
   "metadata": {},
   "outputs": [
    {
     "data": {
      "text/html": [
       "<div>\n",
       "<style scoped>\n",
       "    .dataframe tbody tr th:only-of-type {\n",
       "        vertical-align: middle;\n",
       "    }\n",
       "\n",
       "    .dataframe tbody tr th {\n",
       "        vertical-align: top;\n",
       "    }\n",
       "\n",
       "    .dataframe thead th {\n",
       "        text-align: right;\n",
       "    }\n",
       "</style>\n",
       "<table border=\"1\" class=\"dataframe\">\n",
       "  <thead>\n",
       "    <tr style=\"text-align: right;\">\n",
       "      <th></th>\n",
       "      <th>num</th>\n",
       "      <th>name</th>\n",
       "      <th>content</th>\n",
       "      <th>embeddings</th>\n",
       "    </tr>\n",
       "  </thead>\n",
       "  <tbody>\n",
       "    <tr>\n",
       "      <th>0</th>\n",
       "      <td>9180533</td>\n",
       "      <td>the.message.(1976).eng.1cd</td>\n",
       "      <td>watch video onlin open subtitlesfre browser ex...</td>\n",
       "      <td>[-0.18982282, 0.1759449, -0.3058828, 0.0562893...</td>\n",
       "    </tr>\n",
       "    <tr>\n",
       "      <th>1</th>\n",
       "      <td>9180533</td>\n",
       "      <td>the.message.(1976).eng.1cd</td>\n",
       "      <td>told mother afterward minut tender littl grip ...</td>\n",
       "      <td>[-0.09383225, 0.15431398, -0.35503858, -0.0373...</td>\n",
       "    </tr>\n",
       "    <tr>\n",
       "      <th>2</th>\n",
       "      <td>9180533</td>\n",
       "      <td>the.message.(1976).eng.1cd</td>\n",
       "      <td>year worshipedwood stone imag manufactur live ...</td>\n",
       "      <td>[-0.06360224, 0.3060157, -0.33637393, 0.158720...</td>\n",
       "    </tr>\n",
       "    <tr>\n",
       "      <th>3</th>\n",
       "      <td>9180533</td>\n",
       "      <td>the.message.(1976).eng.1cd</td>\n",
       "      <td>choosebetween mani welcom god guid camel stop ...</td>\n",
       "      <td>[-0.1425536, 0.07811344, -0.3047243, -0.061560...</td>\n",
       "    </tr>\n",
       "    <tr>\n",
       "      <th>4</th>\n",
       "      <td>9180533</td>\n",
       "      <td>the.message.(1976).eng.1cd</td>\n",
       "      <td>soon enough big armi three thousand men hundr ...</td>\n",
       "      <td>[-0.18743579, 0.08985154, -0.3369387, -0.02587...</td>\n",
       "    </tr>\n",
       "  </tbody>\n",
       "</table>\n",
       "</div>"
      ],
      "text/plain": [
       "       num                        name  \\\n",
       "0  9180533  the.message.(1976).eng.1cd   \n",
       "1  9180533  the.message.(1976).eng.1cd   \n",
       "2  9180533  the.message.(1976).eng.1cd   \n",
       "3  9180533  the.message.(1976).eng.1cd   \n",
       "4  9180533  the.message.(1976).eng.1cd   \n",
       "\n",
       "                                             content  \\\n",
       "0  watch video onlin open subtitlesfre browser ex...   \n",
       "1  told mother afterward minut tender littl grip ...   \n",
       "2  year worshipedwood stone imag manufactur live ...   \n",
       "3  choosebetween mani welcom god guid camel stop ...   \n",
       "4  soon enough big armi three thousand men hundr ...   \n",
       "\n",
       "                                          embeddings  \n",
       "0  [-0.18982282, 0.1759449, -0.3058828, 0.0562893...  \n",
       "1  [-0.09383225, 0.15431398, -0.35503858, -0.0373...  \n",
       "2  [-0.06360224, 0.3060157, -0.33637393, 0.158720...  \n",
       "3  [-0.1425536, 0.07811344, -0.3047243, -0.061560...  \n",
       "4  [-0.18743579, 0.08985154, -0.3369387, -0.02587...  "
      ]
     },
     "execution_count": 17,
     "metadata": {},
     "output_type": "execute_result"
    }
   ],
   "source": [
    "df.head()"
   ]
  },
  {
   "cell_type": "code",
   "execution_count": 19,
   "id": "e8bbc5e3",
   "metadata": {},
   "outputs": [],
   "source": [
    "query = 'This is a query'"
   ]
  },
  {
   "cell_type": "markdown",
   "id": "e5acaab3",
   "metadata": {},
   "source": [
    "# Calculating Cosine Similarity"
   ]
  },
  {
   "cell_type": "code",
   "execution_count": 60,
   "id": "71bd0912",
   "metadata": {},
   "outputs": [],
   "source": [
    "df['c_sim'] = df.embeddings.apply(lambda a : np.array(util.cos_sim(model.encode(pre_processing(query)),a))[0][0])"
   ]
  },
  {
   "cell_type": "code",
   "execution_count": 78,
   "id": "9c01be07",
   "metadata": {},
   "outputs": [
    {
     "data": {
      "text/plain": [
       "'rudrabinar obhishaap s02 e01 swaralipir kut taan (2022) eng 1cd'"
      ]
     },
     "execution_count": 78,
     "metadata": {},
     "output_type": "execute_result"
    }
   ],
   "source": [
    "movie = ''\n",
    "for i in df[df.c_sim == df.c_sim.agg('max')]['name']:\n",
    "    movie+= i\n",
    "movie = movie.replace('.',' ')"
   ]
  },
  {
   "cell_type": "code",
   "execution_count": 67,
   "id": "eca2e80b",
   "metadata": {},
   "outputs": [],
   "source": []
  },
  {
   "cell_type": "code",
   "execution_count": 74,
   "id": "9dd96177",
   "metadata": {},
   "outputs": [
    {
     "ename": "AttributeError",
     "evalue": "'Series' object has no attribute 'split'",
     "output_type": "error",
     "traceback": [
      "\u001b[1;31m---------------------------------------------------------------------------\u001b[0m",
      "\u001b[1;31mAttributeError\u001b[0m                            Traceback (most recent call last)",
      "\u001b[1;32m~\\AppData\\Local\\Temp\\ipykernel_2348\\929552214.py\u001b[0m in \u001b[0;36m?\u001b[1;34m()\u001b[0m\n\u001b[1;32m----> 1\u001b[1;33m \u001b[0mdf1\u001b[0m\u001b[1;33m.\u001b[0m\u001b[0mname\u001b[0m\u001b[1;33m.\u001b[0m\u001b[0msplit\u001b[0m\u001b[1;33m\u001b[0m\u001b[1;33m\u001b[0m\u001b[0m\n\u001b[0m",
      "\u001b[1;32m~\\anaconda3\\envs\\innomatics\\Lib\\site-packages\\pandas\\core\\generic.py\u001b[0m in \u001b[0;36m?\u001b[1;34m(self, name)\u001b[0m\n\u001b[0;32m   5985\u001b[0m             \u001b[1;32mand\u001b[0m \u001b[0mname\u001b[0m \u001b[1;32mnot\u001b[0m \u001b[1;32min\u001b[0m \u001b[0mself\u001b[0m\u001b[1;33m.\u001b[0m\u001b[0m_accessors\u001b[0m\u001b[1;33m\u001b[0m\u001b[1;33m\u001b[0m\u001b[0m\n\u001b[0;32m   5986\u001b[0m             \u001b[1;32mand\u001b[0m \u001b[0mself\u001b[0m\u001b[1;33m.\u001b[0m\u001b[0m_info_axis\u001b[0m\u001b[1;33m.\u001b[0m\u001b[0m_can_hold_identifiers_and_holds_name\u001b[0m\u001b[1;33m(\u001b[0m\u001b[0mname\u001b[0m\u001b[1;33m)\u001b[0m\u001b[1;33m\u001b[0m\u001b[1;33m\u001b[0m\u001b[0m\n\u001b[0;32m   5987\u001b[0m         ):\n\u001b[0;32m   5988\u001b[0m             \u001b[1;32mreturn\u001b[0m \u001b[0mself\u001b[0m\u001b[1;33m[\u001b[0m\u001b[0mname\u001b[0m\u001b[1;33m]\u001b[0m\u001b[1;33m\u001b[0m\u001b[1;33m\u001b[0m\u001b[0m\n\u001b[1;32m-> 5989\u001b[1;33m         \u001b[1;32mreturn\u001b[0m \u001b[0mobject\u001b[0m\u001b[1;33m.\u001b[0m\u001b[0m__getattribute__\u001b[0m\u001b[1;33m(\u001b[0m\u001b[0mself\u001b[0m\u001b[1;33m,\u001b[0m \u001b[0mname\u001b[0m\u001b[1;33m)\u001b[0m\u001b[1;33m\u001b[0m\u001b[1;33m\u001b[0m\u001b[0m\n\u001b[0m",
      "\u001b[1;31mAttributeError\u001b[0m: 'Series' object has no attribute 'split'"
     ]
    }
   ],
   "source": []
  },
  {
   "cell_type": "code",
   "execution_count": null,
   "id": "b8b9b3c3",
   "metadata": {},
   "outputs": [],
   "source": [
    "df.c_sim"
   ]
  },
  {
   "cell_type": "code",
   "execution_count": null,
   "id": "afd2ed61",
   "metadata": {},
   "outputs": [],
   "source": [
    "query = \"didn't heard about you\""
   ]
  },
  {
   "cell_type": "code",
   "execution_count": null,
   "id": "e27bf464",
   "metadata": {},
   "outputs": [],
   "source": [
    "def c_sim(a):\n",
    "    "
   ]
  },
  {
   "cell_type": "code",
   "execution_count": null,
   "id": "59685a1c",
   "metadata": {},
   "outputs": [],
   "source": [
    "len(df.content[0].split())"
   ]
  },
  {
   "cell_type": "code",
   "execution_count": null,
   "id": "feac6011",
   "metadata": {},
   "outputs": [],
   "source": [
    "def chunk(a):\n",
    "    for i in a"
   ]
  },
  {
   "cell_type": "code",
   "execution_count": null,
   "id": "cafc25ca",
   "metadata": {},
   "outputs": [],
   "source": [
    "df.content[0][:1]"
   ]
  },
  {
   "cell_type": "code",
   "execution_count": null,
   "id": "f47c05f0",
   "metadata": {},
   "outputs": [],
   "source": []
  }
 ],
 "metadata": {
  "kernelspec": {
   "display_name": "Python 3 (ipykernel)",
   "language": "python",
   "name": "python3"
  },
  "language_info": {
   "codemirror_mode": {
    "name": "ipython",
    "version": 3
   },
   "file_extension": ".py",
   "mimetype": "text/x-python",
   "name": "python",
   "nbconvert_exporter": "python",
   "pygments_lexer": "ipython3",
   "version": "3.11.4"
  }
 },
 "nbformat": 4,
 "nbformat_minor": 5
}
